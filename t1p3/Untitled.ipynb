{
 "cells": [
  {
   "cell_type": "markdown",
   "metadata": {},
   "source": [
    "# The central theme of my inquiry in this report will be about what kinds of movies have the best chance of standing out in today's market. I'll be investigating from four different factors, formulating null hypotheses for each one of them and using data analysis to decide whether to override it or support it. In the end, I will give a concluding statement that summarizes my findings."
   ]
  },
  {
   "cell_type": "code",
   "execution_count": 1,
   "metadata": {},
   "outputs": [],
   "source": [
    "import pandas as pd\n",
    "import matplotlib.pyplot as plt\n",
    "% matplotlib inline"
   ]
  },
  {
   "cell_type": "code",
   "execution_count": 2,
   "metadata": {},
   "outputs": [],
   "source": [
    "# load the csv file\n",
    "df = pd.read_csv('tmdb-movies.csv')"
   ]
  },
  {
   "cell_type": "markdown",
   "metadata": {},
   "source": [
    "#### Drop Duplicates"
   ]
  },
  {
   "cell_type": "code",
   "execution_count": 3,
   "metadata": {},
   "outputs": [
    {
     "data": {
      "text/plain": [
       "1"
      ]
     },
     "execution_count": 3,
     "metadata": {},
     "output_type": "execute_result"
    }
   ],
   "source": [
    "sum(df.duplicated())"
   ]
  },
  {
   "cell_type": "code",
   "execution_count": 4,
   "metadata": {},
   "outputs": [],
   "source": [
    "df.drop_duplicates(inplace=True)"
   ]
  },
  {
   "cell_type": "code",
   "execution_count": 5,
   "metadata": {},
   "outputs": [
    {
     "name": "stdout",
     "output_type": "stream",
     "text": [
      "<class 'pandas.core.frame.DataFrame'>\n",
      "Int64Index: 10865 entries, 0 to 10865\n",
      "Data columns (total 21 columns):\n",
      "id                      10865 non-null int64\n",
      "imdb_id                 10855 non-null object\n",
      "popularity              10865 non-null float64\n",
      "budget                  10865 non-null int64\n",
      "revenue                 10865 non-null int64\n",
      "original_title          10865 non-null object\n",
      "cast                    10789 non-null object\n",
      "homepage                2936 non-null object\n",
      "director                10821 non-null object\n",
      "tagline                 8041 non-null object\n",
      "keywords                9372 non-null object\n",
      "overview                10861 non-null object\n",
      "runtime                 10865 non-null int64\n",
      "genres                  10842 non-null object\n",
      "production_companies    9835 non-null object\n",
      "release_date            10865 non-null object\n",
      "vote_count              10865 non-null int64\n",
      "vote_average            10865 non-null float64\n",
      "release_year            10865 non-null int64\n",
      "budget_adj              10865 non-null float64\n",
      "revenue_adj             10865 non-null float64\n",
      "dtypes: float64(4), int64(6), object(11)\n",
      "memory usage: 1.8+ MB\n"
     ]
    }
   ],
   "source": [
    "df.info()"
   ]
  },
  {
   "cell_type": "code",
   "execution_count": 12,
   "metadata": {},
   "outputs": [],
   "source": [
    "def find_bestselling_directors(year, df):\n",
    "    df1 = df\n",
    "    df1['director'].dropna(inplace=True)  # I chose to drop NaNs in this situation because the amount of NaNs is insignificant\n",
    "    df_temp = df1[df1['release_year'] == year]\n",
    "    max_revenue = df_temp['revenue'].max()\n",
    "    name = df_temp[df_temp['revenue'] == max_revenue].iloc[0]['director']\n",
    "    if '|' in name:\n",
    "        name = name.replace('|', ' and ')\n",
    "        print('The best-selling directors for {0} are {1} with a revenue of {2}'.format(year, name, max_revenue))\n",
    "    else:\n",
    "        print('The best-selling director for {0} is {1} with a revenue of {2}'.format(year, name, max_revenue))"
   ]
  },
  {
   "cell_type": "code",
   "execution_count": 11,
   "metadata": {},
   "outputs": [],
   "source": [
    "def draw_graphs(colX, colY, year, df):\n",
    "    df_temp = df[df['release_year'] == year]\n",
    "    df_temp[colX].dropna(inplace=True) # Drop NaNs for colX\n",
    "    df_temp[colY].dropna(inplace=True) # Drop NaNs for colY\n",
    "    plt.scatter(df_temp[colX], df_temp[colY])\n",
    "    plt.xlabel(colX)\n",
    "    plt.ylabel(colY)"
   ]
  },
  {
   "cell_type": "code",
   "execution_count": 18,
   "metadata": {},
   "outputs": [],
   "source": [
    "def average_revenue(categories, df):\n",
    "    result = {}\n",
    "    \n",
    "    # I chose to fill all the NaNs of column genre because the NaNs don't count towards the final conclusion.\n",
    "    df1 = df\n",
    "    df1['genres'].dropna(inplace=True)\n",
    "    \n",
    "    for category in categories:\n",
    "        df_temp = df1[df1['genres'].str.contains(category)]\n",
    "        total = float(df_temp['revenue'].sum())\n",
    "        if total == 0.0:\n",
    "          result[category] = 0.0\n",
    "        else:\n",
    "          count = len(df_temp.index)\n",
    "          result[category] = total / count\n",
    "            \n",
    "    return result"
   ]
  },
  {
   "cell_type": "code",
   "execution_count": 24,
   "metadata": {},
   "outputs": [],
   "source": [
    "def group_by_season(df):\n",
    "    df['datetime'] = pd.to_datetime(df['release_date'])\n",
    "    df['month'] = df['datetime'].dt.month\n",
    "    revenue_by_season = {}\n",
    "    grouped = df.groupby('month')\n",
    "    for index, group in grouped:\n",
    "        if 3 <= index < 6:\n",
    "            if 'Spring' not in revenue_by_season:\n",
    "                revenue_by_season['Spring'] = group['revenue'].sum()\n",
    "            else:\n",
    "                revenue_by_season['Spring'] = group['revenue'].sum()\n",
    "        elif 6 <= index < 9:\n",
    "            if 'Summer' not in revenue_by_season:\n",
    "                revenue_by_season['Summer'] = group['revenue'].sum()\n",
    "            else:\n",
    "                revenue_by_season['Summer'] = group['revenue'].sum()\n",
    "        elif 9 <= index < 12:\n",
    "            if 'Fall' not in revenue_by_season:\n",
    "                revenue_by_season['Fall'] = group['revenue'].sum()\n",
    "            else:\n",
    "                revenue_by_season['Fall'] = group['revenue'].sum()\n",
    "        else:\n",
    "            if 'Winter' not in revenue_by_season:\n",
    "                revenue_by_season['Winter'] = group['revenue'].sum()\n",
    "            else:\n",
    "                revenue_by_season['Winter'] = group['revenue'].sum()\n",
    "    return revenue_by_season"
   ]
  },
  {
   "cell_type": "code",
   "execution_count": 14,
   "metadata": {},
   "outputs": [],
   "source": [
    "def correlation(colA, colB, df, year):\n",
    "    df_temp = df[df['release_year'] == year]\n",
    "    tmp = ((df_temp[colA] - df_temp[colA].mean())/ df_temp[colA].std(ddof=0)) * ((df_temp[colB] - df_temp[colB].mean()) / df_temp[colB].std(ddof=0))\n",
    "    return tmp.mean()"
   ]
  },
  {
   "cell_type": "markdown",
   "metadata": {},
   "source": [
    "# Question 1: Who were the bestselling directors for the years 2013-2015"
   ]
  },
  {
   "cell_type": "markdown",
   "metadata": {},
   "source": [
    "# Answer for 2015:"
   ]
  },
  {
   "cell_type": "code",
   "execution_count": 15,
   "metadata": {},
   "outputs": [
    {
     "name": "stdout",
     "output_type": "stream",
     "text": [
      "The best-selling director for 2015 is J.J. Abrams with a revenue of 2068178225\n"
     ]
    }
   ],
   "source": [
    "find_bestselling_directors(2015, df)"
   ]
  },
  {
   "cell_type": "markdown",
   "metadata": {},
   "source": [
    "# Answer for 2014:"
   ]
  },
  {
   "cell_type": "code",
   "execution_count": 16,
   "metadata": {},
   "outputs": [
    {
     "name": "stdout",
     "output_type": "stream",
     "text": [
      "The best-selling director for 2014 is Peter Jackson with a revenue of 955119788\n"
     ]
    }
   ],
   "source": [
    "find_bestselling_directors(2014, df)"
   ]
  },
  {
   "cell_type": "markdown",
   "metadata": {},
   "source": [
    "# Answer for 2013: "
   ]
  },
  {
   "cell_type": "code",
   "execution_count": 17,
   "metadata": {},
   "outputs": [
    {
     "name": "stdout",
     "output_type": "stream",
     "text": [
      "The best-selling directors for 2013 are Chris Buck and Jennifer Lee with a revenue of 1274219009\n"
     ]
    }
   ],
   "source": [
    "find_bestselling_directors(2013, df)"
   ]
  },
  {
   "cell_type": "markdown",
   "metadata": {},
   "source": [
    "# Question 2: Is there any definite correlation between budget and revenue?"
   ]
  },
  {
   "cell_type": "markdown",
   "metadata": {},
   "source": [
    "### From common sense, I hypothesize that there would be a very strong correlation between the two factors"
   ]
  },
  {
   "cell_type": "markdown",
   "metadata": {},
   "source": [
    "### Data for 2013"
   ]
  },
  {
   "cell_type": "code",
   "execution_count": 106,
   "metadata": {},
   "outputs": [
    {
     "data": {
      "image/png": "[encoded data removed]",
      "text/plain": [
       "<Figure size 432x288 with 1 Axes>"
      ]
     },
     "metadata": {},
     "output_type": "display_data"
    }
   ],
   "source": [
    "draw_graphs('budget', 'revenue', 2013, df)"
   ]
  },
  {
   "cell_type": "code",
   "execution_count": 16,
   "metadata": {},
   "outputs": [
    {
     "name": "stdout",
     "output_type": "stream",
     "text": [
      "Correlation coefficient is: 0.7996284902960089\n"
     ]
    }
   ],
   "source": [
    "print('Correlation coefficient is: {0}'.format(correlation('budget', 'revenue', df, 2013)))"
   ]
  },
  {
   "cell_type": "markdown",
   "metadata": {},
   "source": [
    "### Data for 2014"
   ]
  },
  {
   "cell_type": "code",
   "execution_count": 107,
   "metadata": {},
   "outputs": [
    {
     "data": {
      "image/png": "[encoded data removed]",
      "text/plain": [
       "<Figure size 432x288 with 1 Axes>"
      ]
     },
     "metadata": {},
     "output_type": "display_data"
    }
   ],
   "source": [
    "draw_graphs('budget', 'revenue', 2014, df)"
   ]
  },
  {
   "cell_type": "code",
   "execution_count": 15,
   "metadata": {},
   "outputs": [
    {
     "name": "stdout",
     "output_type": "stream",
     "text": [
      "Correlation coefficient is: 0.8881767111444632\n"
     ]
    }
   ],
   "source": [
    "print('Correlation coefficient is: {0}'.format(correlation('budget', 'revenue', df, 2014)))"
   ]
  },
  {
   "cell_type": "markdown",
   "metadata": {},
   "source": [
    "### Data for 2015"
   ]
  },
  {
   "cell_type": "code",
   "execution_count": 108,
   "metadata": {},
   "outputs": [
    {
     "data": {
      "image/png": "[encoded data removed]",
      "text/plain": [
       "<Figure size 432x288 with 1 Axes>"
      ]
     },
     "metadata": {},
     "output_type": "display_data"
    }
   ],
   "source": [
    "draw_graphs('budget', 'revenue', 2015, df)"
   ]
  },
  {
   "cell_type": "code",
   "execution_count": 17,
   "metadata": {},
   "outputs": [
    {
     "name": "stdout",
     "output_type": "stream",
     "text": [
      "Correlation coefficient is: 0.8007627509810306\n"
     ]
    }
   ],
   "source": [
    "print('Correlation coefficient is: {0}'.format(correlation('budget', 'revenue', df, 2015)))"
   ]
  },
  {
   "cell_type": "markdown",
   "metadata": {},
   "source": [
    "### As we can see on the graphs, budget and revenue kind of stayed still for budgets below 5m. When budget is over 5m, to magnitudes of 10m and more, there is a definite positive correlation between the two variables, further consolidated by the high correlation coefficient in all 3 cases. So I choose to support my initial hypothesis"
   ]
  },
  {
   "cell_type": "markdown",
   "metadata": {},
   "source": [
    "# Question 3: Does popularity have a positive correlation with revenue?"
   ]
  },
  {
   "cell_type": "markdown",
   "metadata": {},
   "source": [
    "### From common sense, my null hypothesis is that there would be a very strong correlation between the two."
   ]
  },
  {
   "cell_type": "markdown",
   "metadata": {},
   "source": [
    "# Data for 2015"
   ]
  },
  {
   "cell_type": "code",
   "execution_count": 109,
   "metadata": {},
   "outputs": [
    {
     "data": {
      "image/png": "[encoded data removed]",
      "text/plain": [
       "<Figure size 432x288 with 1 Axes>"
      ]
     },
     "metadata": {},
     "output_type": "display_data"
    }
   ],
   "source": [
    "draw_graphs('popularity', 'revenue', 2015, df)"
   ]
  },
  {
   "cell_type": "code",
   "execution_count": 18,
   "metadata": {},
   "outputs": [
    {
     "name": "stdout",
     "output_type": "stream",
     "text": [
      "Correlation coefficient is: 0.7022570591219259\n"
     ]
    }
   ],
   "source": [
    "print('Correlation coefficient is: {0}'.format(correlation('popularity', 'revenue', df, 2015)))"
   ]
  },
  {
   "cell_type": "markdown",
   "metadata": {},
   "source": [
    "# Data for 2014"
   ]
  },
  {
   "cell_type": "code",
   "execution_count": 110,
   "metadata": {},
   "outputs": [
    {
     "data": {
      "image/png": "[encoded data removed]",
      "text/plain": [
       "<Figure size 432x288 with 1 Axes>"
      ]
     },
     "metadata": {},
     "output_type": "display_data"
    }
   ],
   "source": [
    "draw_graphs('popularity', 'revenue', 2014, df)"
   ]
  },
  {
   "cell_type": "code",
   "execution_count": 19,
   "metadata": {},
   "outputs": [
    {
     "name": "stdout",
     "output_type": "stream",
     "text": [
      "Correlation coefficient is: 0.7484128506765001\n"
     ]
    }
   ],
   "source": [
    "print('Correlation coefficient is: {0}'.format(correlation('popularity', 'revenue', df, 2014)))"
   ]
  },
  {
   "cell_type": "markdown",
   "metadata": {},
   "source": [
    "# Data for 2013"
   ]
  },
  {
   "cell_type": "code",
   "execution_count": 111,
   "metadata": {},
   "outputs": [
    {
     "data": {
      "image/png": "[encoded data removed]",
      "text/plain": [
       "<Figure size 432x288 with 1 Axes>"
      ]
     },
     "metadata": {},
     "output_type": "display_data"
    }
   ],
   "source": [
    "draw_graphs('popularity', 'revenue', 2013, df)"
   ]
  },
  {
   "cell_type": "code",
   "execution_count": 20,
   "metadata": {},
   "outputs": [
    {
     "name": "stdout",
     "output_type": "stream",
     "text": [
      "Correlation coefficient is: 0.743663660428182\n"
     ]
    }
   ],
   "source": [
    "print('Correlation coefficient is: {0}'.format(correlation('popularity', 'revenue', df, 2013)))"
   ]
  },
  {
   "cell_type": "markdown",
   "metadata": {},
   "source": [
    "### As we can see, popularity does have a strong correlation with revenue. However, the correlation doesn't seem to be as strong as that of budget: the highest grossing film may not have the highest popularity, and vice versa. This is a rather surprising conclusion, since normally we would presume that they must be hightly positively correlated. However, after second thought, there is logic in the finding: there are indeed films which are roaring through the media propaganda, but in their essences, not as perfect as the propaganda claims. From this, I would like to overturn my initial hypothesis."
   ]
  },
  {
   "cell_type": "markdown",
   "metadata": {},
   "source": [
    "# Question 4:  Which of the major movie genres tends to have the highest revenue, in terms of the average of the revenue of all the movies in the respective categories?"
   ]
  },
  {
   "cell_type": "markdown",
   "metadata": {},
   "source": [
    "### From daily moviegoing experiences, I hypothesize that Sci-Fi and Action movies are the winner. "
   ]
  },
  {
   "cell_type": "code",
   "execution_count": 155,
   "metadata": {},
   "outputs": [],
   "source": [
    "categories = ['Action', 'Comedy', 'Horror', 'Science Fiction', 'Documentary', 'Adventure', 'Animation', 'Crime', 'Drama', 'History', 'War', 'Romance', 'Western', 'Fantasy', 'Thriller', 'Family']\n",
    "average = average_revenue(categories, df)"
   ]
  },
  {
   "cell_type": "code",
   "execution_count": 161,
   "metadata": {},
   "outputs": [
    {
     "data": {
      "image/png": "[encoded data removed]",
      "text/plain": [
       "<Figure size 1440x720 with 1 Axes>"
      ]
     },
     "metadata": {},
     "output_type": "display_data"
    }
   ],
   "source": [
    "plt.bar([i for i in range(1, len(categories) + 1)], [average[category] for category in average])\n",
    "plt.xticks([i for i in range(1, len(categories) + 1)], [category if category != 'Science Fiction' else 'Sci-Fi' for category in categories])\n",
    "plt.xlabel('Genres')\n",
    "plt.ylabel('Average Revenue')\n",
    "plt.rcParams['figure.figsize'] = [25, 10]"
   ]
  },
  {
   "cell_type": "markdown",
   "metadata": {},
   "source": [
    "### From the bar graph above, it is clear, to the contrary of my initial opinion, that adventure movies are the winner. "
   ]
  },
  {
   "cell_type": "markdown",
   "metadata": {},
   "source": [
    "# Question 5: Movies released in which season have the most total revenue?"
   ]
  },
  {
   "cell_type": "markdown",
   "metadata": {},
   "source": [
    "### From common sense, I suspect that movies released in summer have the most total revenue, since summers are long vacations so people have more leisure time to go to movies"
   ]
  },
  {
   "cell_type": "code",
   "execution_count": 30,
   "metadata": {},
   "outputs": [
    {
     "data": {
      "image/png": "[encoded data removed]",
      "text/plain": [
       "<Figure size 432x288 with 1 Axes>"
      ]
     },
     "metadata": {},
     "output_type": "display_data"
    }
   ],
   "source": [
    "revenue_by_season = group_by_season(df)\n",
    "plt.bar([i for i in range(1, len(revenue_by_season.values()) + 1)], [revenue_by_season[season] for season in revenue_by_season])\n",
    "plt.xticks([i for i in range(1, len(revenue_by_season.values()) + 1)], [season for season in revenue_by_season])\n",
    "plt.xlabel('Season')\n",
    "plt.ylabel('Total Revenue')\n",
    "plt.rcParams['figure.figsize'] = [25, 10]"
   ]
  },
  {
   "cell_type": "markdown",
   "metadata": {},
   "source": [
    "### To the contrary of common sense, it turns out that movies released during winter and spring have the best chance of standing out . After a second thought, we see that this is likely due to the fact that during summer people tend to do other kinds of things to spend the vacation like travel, while in winter, since it is a short vacation, people tend to stay home and thus have a greater chance of going to movies. "
   ]
  },
  {
   "cell_type": "markdown",
   "metadata": {},
   "source": [
    "#### However, note that the conclusions derived here are only temporary, with no further statistical inference or machine learning techniques to back them up. "
   ]
  },
  {
   "cell_type": "markdown",
   "metadata": {},
   "source": [
    "# From the above analysis, we can conclude that high-budget adventure films released during winter have the best chance of standing out in the market"
   ]
  }
 ],
 "metadata": {
  "kernelspec": {
   "display_name": "Python 3",
   "language": "python",
   "name": "python3"
  },
  "language_info": {
   "codemirror_mode": {
    "name": "ipython",
    "version": 3
   },
   "file_extension": ".py",
   "mimetype": "text/x-python",
   "name": "python",
   "nbconvert_exporter": "python",
   "pygments_lexer": "ipython3",
   "version": "3.6.5"
  }
 },
 "nbformat": 4,
 "nbformat_minor": 2
}
